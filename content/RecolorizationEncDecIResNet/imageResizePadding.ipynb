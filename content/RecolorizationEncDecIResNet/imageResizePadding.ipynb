{
 "cells": [
  {
   "cell_type": "code",
   "execution_count": 1,
   "metadata": {
    "id": "dx0lqTsfq7ni"
   },
   "outputs": [],
   "source": [
    "##############################################################\n",
    "# import packages\n",
    "##############################################################\n",
    "import numpy as np\n",
    "import matplotlib.pyplot as plt\n",
    "import os\n",
    "import shutil\n",
    "from skimage.io import imsave\n",
    "from skimage import img_as_ubyte\n",
    "from PIL import Image\n",
    "from tensorflow.keras.preprocessing.image import img_to_array\n",
    "from skimage.color import rgb2lab, lab2rgb, rgb2gray, gray2rgb"
   ]
  },
  {
   "cell_type": "code",
   "execution_count": 2,
   "metadata": {
    "colab": {
     "base_uri": "https://localhost:8080/"
    },
    "executionInfo": {
     "elapsed": 1172,
     "status": "ok",
     "timestamp": 1604602716894,
     "user": {
      "displayName": "A. Irgendwie",
      "photoUrl": "",
      "userId": "06901651170485627471"
     },
     "user_tz": -60
    },
    "id": "EUT15_0arImG",
    "outputId": "b0b49bcf-ed5e-48a1-d82a-60440598648f"
   },
   "outputs": [
    {
     "name": "stdout",
     "output_type": "stream",
     "text": [
      "C:\\Users\\d91482\\Desktop\\code\\finalVersion\\content\\RecolorizationEncDecIResNet\n"
     ]
    }
   ],
   "source": [
    "##############################################################\n",
    "# set output folders and output format\n",
    "##############################################################\n",
    "datasetInput = 'postersLargeMixedResizedPadded/images/'\n",
    "datasetOutputNpy = 'postersLargeMixedResizedPadded/npy/'\n",
    "datasetOutputImages = 'postersLargeMixedResizedPadded/images/'\n",
    "datasetOutputTrain = 'postersLargeMixedResizedPadded/train/'\n",
    "datasetOutputValid = 'postersLargeMixedResizedPadded/valid/'\n",
    "datasetOutputProb = 'postersLargeMixedResizedPadded/prob/'\n",
    "# number of validation examples\n",
    "var_num_train_images = 1\n",
    "# output format\n",
    "var_image_out_size = (256,256,3)\n",
    "# padding for images\n",
    "fill=(255,255,255)\n",
    "\n",
    "# select running environment\n",
    "# 0: local, 1: Colab, 2: AWS\n",
    "env_mode = 0\n",
    "if(env_mode == 0):\n",
    "  working_path = os.getcwd()\n",
    "  print(working_path)\n",
    "elif(env_mode == 1):\n",
    "  from google.colab import drive\n",
    "  drive.mount('/content/drive/')\n",
    "  working_path = '/content/drive/My Drive/RecolorizationEncDecIResNet'\n",
    "# change working directory\n",
    "if os.getcwd() != working_path:\n",
    "  os.chdir(working_path)\n",
    "current_path = os.getcwd()\n",
    "\n",
    "##############################################################\n",
    "# set paths to subfolders\n",
    "##############################################################\n",
    "input_path = current_path + '/preprocessing/datasets/input/' + datasetInput\n",
    "output_folder = current_path + '/preprocessing/datasets/output/'\n",
    "output_path_npy = current_path + '/preprocessing/datasets/output/' + datasetOutputNpy\n",
    "output_path_images = current_path + '/preprocessing/datasets/output/' + datasetOutputImages\n",
    "output_path_train = current_path + '/preprocessing/datasets/output/' + datasetOutputTrain\n",
    "output_path_valid = current_path + '/preprocessing/datasets/output/' + datasetOutputValid\n",
    "output_path_prob = current_path + '/preprocessing/datasets/output/' + datasetOutputProb\n",
    "\n",
    "##############################################################\n",
    "# import custom utils with auxiliary functions\n",
    "##############################################################\n",
    "import sys\n",
    "sys.path.append(current_path + '/code/')\n",
    "import utils\n",
    "from utils import resize_with_padding"
   ]
  },
  {
   "cell_type": "code",
   "execution_count": 3,
   "metadata": {
    "colab": {
     "base_uri": "https://localhost:8080/",
     "height": 385
    },
    "executionInfo": {
     "elapsed": 1790,
     "status": "error",
     "timestamp": 1604603834528,
     "user": {
      "displayName": "A. Irgendwie",
      "photoUrl": "",
      "userId": "06901651170485627471"
     },
     "user_tz": -60
    },
    "id": "mT-95y7q1sv6",
    "outputId": "2d8ed1fc-472f-40d3-bc80-39f52685514c"
   },
   "outputs": [
    {
     "name": "stdout",
     "output_type": "stream",
     "text": [
      "C:\\Users\\d91482\\Desktop\\code\\finalVersion\\content\\RecolorizationEncDecIResNet/preprocessing/datasets/input/postersLargeMixedResizedPadded/images/\n",
      "images to import:  1\n"
     ]
    }
   ],
   "source": [
    "##############################################################\n",
    "# import, resize, add padding and save output\n",
    "##############################################################\n",
    "# number of images to import\n",
    "print(input_path)\n",
    "filelist = os.listdir(input_path)\n",
    "num_input_images = len(filelist)\n",
    "print('images to import: ', num_input_images)\n",
    "# read and transform input data\n",
    "# save transformed images to output file\n",
    "image_resized = []\n",
    "counter = 0\n",
    "counter_pixel = 0\n",
    "histogram = np.zeros((32,32))\n",
    "num_pixels = var_image_out_size[0]*var_image_out_size[1]\n",
    "for filename in os.listdir(input_path):\n",
    "#for filename in filelist:\n",
    "    if(counter < num_input_images):\n",
    "      image = Image.open(input_path+filename)\n",
    "      image = resize_with_padding(image, var_image_out_size, fill)\n",
    "      buffer = img_to_array(image)\n",
    "    \n",
    "      # check output size\n",
    "      if(buffer.shape[2] != var_image_out_size[2]):\n",
    "        print(counter, buffer.shape, filename)    \n",
    "      else:\n",
    "        #image_resized.append(buffer)\n",
    "        imsave(output_path_images + str(counter) +\".png\",img_as_ubyte(buffer/255))\n",
    "        counter += 1\n",
    "        \n",
    "        # new\n",
    "        buffer_lab = rgb2lab(buffer/255)\n",
    "        buffer_a = np.reshape(buffer_lab[:,:,1], (num_pixels,1))\n",
    "        buffer_b = np.reshape(buffer_lab[:,:,2], (num_pixels,1))\n",
    "        # compute histogram \n",
    "        for i in range(num_pixels):\n",
    "            id_x = int(32 * (buffer_a[i] + 128) / 256 + 0.5)\n",
    "            id_y = int(32 * (buffer_b[i] + 128) / 256 + 0.5)\n",
    "            histogram[id_x, id_y] += 1\n",
    "            \n",
    "        #counter = 100000\n",
    "        #print(buffer_a[i], buffer_b[i])\n",
    "        #print(id_x, id_y, (buffer_a[i] + 128) / 256, (buffer_b[i] + 128) / 256)\n",
    "\n",
    "        if(counter % 100 == 0):\n",
    "          print('number of imported and transformed images: ', counter)"
   ]
  },
  {
   "cell_type": "code",
   "execution_count": 4,
   "metadata": {
    "scrolled": true
   },
   "outputs": [
    {
     "name": "stdout",
     "output_type": "stream",
     "text": [
      "1.0\n",
      "292\n"
     ]
    },
    {
     "name": "stderr",
     "output_type": "stream",
     "text": [
      "<ipython-input-4-bfaa6e110e92>:12: RuntimeWarning: divide by zero encountered in log\n",
      "  plt.imshow(np.log(prob_ab), cmap='viridis', extent = [0 , 30, 30, 0], origin='upper')  #interpolation='nearest'\n"
     ]
    },
    {
     "data": {
      "image/png": "[encoded data removed]",
      "text/plain": [
       "<Figure size 432x288 with 2 Axes>"
      ]
     },
     "metadata": {
      "needs_background": "light"
     },
     "output_type": "display_data"
    }
   ],
   "source": [
    "prob_ab = histogram / (counter * num_pixels)\n",
    "print(np.sum(prob_ab))\n",
    "list_ab = []\n",
    "for i in range(32):\n",
    "    for j in range(32):\n",
    "        if(prob_ab[i,j] > 0.0):\n",
    "            list_ab.append((i/32 * 256 - 128,j/32 * 256 - 128, prob_ab[i,j]))       \n",
    "grid_ab = np.asarray(list_ab)\n",
    "print(len(grid_ab))\n",
    "np.save(output_path_prob+'grid_ab.npy', grid_ab)\n",
    "\n",
    "plt.imshow(np.log(prob_ab), cmap='viridis', extent = [0 , 30, 30, 0], origin='upper')  #interpolation='nearest'\n",
    "plt.xlabel('b')\n",
    "plt.ylabel('a')\n",
    "plt.title('log(P(a,b))')\n",
    "plt.colorbar()\n",
    "plt.grid(linestyle='--')\n",
    "#plt.imsave(fname=output_path_prob, arr=np.log(prob_ab), cmap='viridis', origin='upper', format='png')\n",
    "plt.show()"
   ]
  },
  {
   "cell_type": "code",
   "execution_count": 5,
   "metadata": {
    "id": "95r6tYS9xCGH"
   },
   "outputs": [],
   "source": [
    "# save training and validation data to numpy-arrays\n",
    "Xtrain_rgb = np.array(image_resized, dtype=float) / 255\n",
    "image_resized = []\n",
    "#Xtrain_rgb = np.random.shuffle(Xtrain_rgb)\n",
    "np.save(output_path_npy+'trainArray.npy', Xtrain_rgb[0:var_num_train_images])\n",
    "np.save(output_path_npy + 'validArray.npy', Xtrain_rgb[var_num_train_images:])\n",
    "\n"
   ]
  },
  {
   "cell_type": "code",
   "execution_count": 6,
   "metadata": {
    "id": "xIkmP-OG9I2p",
    "scrolled": true
   },
   "outputs": [
    {
     "name": "stdout",
     "output_type": "stream",
     "text": [
      "number of files for training:  1\n",
      "number of files for validation:  0\n",
      "C:\\Users\\d91482\\Desktop\\code\\finalVersion\\content\\RecolorizationEncDecIResNet/preprocessing/datasets/output/postersLargeMixedResizedPadded/train/\n",
      "1\n",
      "C:\\Users\\d91482\\Desktop\\code\\finalVersion\\content\\RecolorizationEncDecIResNet/preprocessing/datasets/output/postersLargeMixedResizedPadded/valid/\n",
      "1\n",
      "C:\\Users\\d91482\\Desktop\\code\\finalVersion\\content\\RecolorizationEncDecIResNet/preprocessing/datasets/output/postersLargeMixedResizedPadded/images/\n",
      "0\n"
     ]
    }
   ],
   "source": [
    "##############################################################\n",
    "# select random subset of training images for validation\n",
    "##############################################################\n",
    "files = os.listdir(output_path_images)\n",
    "random_files = np.random.choice(files, var_num_train_images,replace=False)\n",
    "#random_files = np.random.choice(files, 1)\n",
    "# move files to validation folder\n",
    "print('number of files for training: ', len(random_files))\n",
    "for file in random_files:\n",
    "    shutil.move(output_path_images + file, output_path_train)\n",
    "files = os.listdir(output_path_images)\n",
    "print('number of files for validation: ', len(files))\n",
    "for file in files:\n",
    "    shutil.move(output_path_images + file, output_path_valid)\n",
    "# check number of files per folder\n",
    "files = os.listdir(output_path_train)\n",
    "print(output_path_train)\n",
    "print(len(files))\n",
    "files = os.listdir(output_path_valid)\n",
    "print(output_path_valid)\n",
    "print(len(files))\n",
    "files = os.listdir(output_path_images)\n",
    "print(output_path_images)\n",
    "print(len(files))"
   ]
  },
  {
   "cell_type": "code",
   "execution_count": null,
   "metadata": {},
   "outputs": [],
   "source": []
  }
 ],
 "metadata": {
  "colab": {
   "authorship_tag": "ABX9TyMsmRqh0issFBA5A420Vyll",
   "collapsed_sections": [],
   "machine_shape": "hm",
   "name": "imageResizePadding.ipynb",
   "provenance": []
  },
  "kernelspec": {
   "display_name": "Python 3",
   "language": "python",
   "name": "python3"
  },
  "language_info": {
   "codemirror_mode": {
    "name": "ipython",
    "version": 3
   },
   "file_extension": ".py",
   "mimetype": "text/x-python",
   "name": "python",
   "nbconvert_exporter": "python",
   "pygments_lexer": "ipython3",
   "version": "3.8.3"
  }
 },
 "nbformat": 4,
 "nbformat_minor": 1
}
