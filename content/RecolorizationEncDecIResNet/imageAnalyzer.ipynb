{
 "cells": [
  {
   "cell_type": "code",
   "execution_count": 1,
   "metadata": {
    "id": "dx0lqTsfq7ni"
   },
   "outputs": [],
   "source": [
    "##############################################################\n",
    "# import packages\n",
    "##############################################################\n",
    "import numpy as np\n",
    "import matplotlib.pyplot as plt\n",
    "import os\n",
    "import shutil\n",
    "from skimage.io import imsave\n",
    "from skimage import img_as_ubyte\n",
    "from PIL import Image\n",
    "from tensorflow.keras.preprocessing.image import img_to_array\n",
    "from skimage.color import rgb2lab, lab2rgb, rgb2gray, gray2rgb"
   ]
  },
  {
   "cell_type": "code",
   "execution_count": 2,
   "metadata": {
    "colab": {
     "base_uri": "https://localhost:8080/"
    },
    "executionInfo": {
     "elapsed": 1172,
     "status": "ok",
     "timestamp": 1604602716894,
     "user": {
      "displayName": "A. Irgendwie",
      "photoUrl": "",
      "userId": "06901651170485627471"
     },
     "user_tz": -60
    },
    "id": "EUT15_0arImG",
    "outputId": "b0b49bcf-ed5e-48a1-d82a-60440598648f"
   },
   "outputs": [
    {
     "name": "stdout",
     "output_type": "stream",
     "text": [
      "C:\\Users\\d91482\\Desktop\\code\\finalVersion\\content\\RecolorizationEncDecIResNet\n"
     ]
    }
   ],
   "source": [
    "##############################################################\n",
    "# set output folders and output format\n",
    "##############################################################\n",
    "datasetInput1 = 'original/images/'\n",
    "datasetInput2 = 'generated/images/'\n",
    "# output format\n",
    "var_image_out_size = (256,256,3)\n",
    "\n",
    "# select running environment\n",
    "# 0: local, 1: Colab, 2: AWS\n",
    "env_mode = 0\n",
    "if(env_mode == 0):\n",
    "  working_path = os.getcwd()\n",
    "  print(working_path)\n",
    "elif(env_mode == 1):\n",
    "  from google.colab import drive\n",
    "  drive.mount('/content/drive/')\n",
    "  working_path = '/content/drive/My Drive/RecolorizationEncDecIResNet'\n",
    "# change working directory\n",
    "if os.getcwd() != working_path:\n",
    "  os.chdir(working_path)\n",
    "current_path = os.getcwd()\n",
    "\n",
    "##############################################################\n",
    "# set paths to subfolders\n",
    "##############################################################\n",
    "input_path1 = current_path + '/postprocessing/datasets/' + datasetInput1\n",
    "input_path2 = current_path + '/postprocessing/datasets/' + datasetInput2\n",
    "output_path_images = current_path + '/postprocessing/datasets/output/'"
   ]
  },
  {
   "cell_type": "code",
   "execution_count": 3,
   "metadata": {
    "colab": {
     "base_uri": "https://localhost:8080/",
     "height": 385
    },
    "executionInfo": {
     "elapsed": 1790,
     "status": "error",
     "timestamp": 1604603834528,
     "user": {
      "displayName": "A. Irgendwie",
      "photoUrl": "",
      "userId": "06901651170485627471"
     },
     "user_tz": -60
    },
    "id": "mT-95y7q1sv6",
    "outputId": "2d8ed1fc-472f-40d3-bc80-39f52685514c"
   },
   "outputs": [
    {
     "name": "stdout",
     "output_type": "stream",
     "text": [
      "C:\\Users\\d91482\\Desktop\\code\\finalVersion\\content\\RecolorizationEncDecIResNet/postprocessing/datasets/original/images/\n",
      "images to import:  1\n"
     ]
    }
   ],
   "source": [
    "##############################################################\n",
    "# import, resize, add padding and save output\n",
    "##############################################################\n",
    "# number of images to import\n",
    "print(input_path1)\n",
    "filelist = os.listdir(input_path1)\n",
    "num_input_images = len(filelist)\n",
    "print('images to import: ', num_input_images)\n",
    "# read data\n",
    "image_resized = []\n",
    "counter = 0\n",
    "counter_correct_class = 0\n",
    "counter_wo_white = 0\n",
    "counter_wo_white_correct_1 = 0\n",
    "counter_wo_white_correct_2 = 0\n",
    "L2_loss = 0.0\n",
    "histogram1 = np.zeros((32,32))\n",
    "histogram2 = np.zeros((32,32))\n",
    "num_pixels = var_image_out_size[0]*var_image_out_size[1]\n",
    "for filename in os.listdir(input_path1):\n",
    "    if(counter < num_input_images):\n",
    "      image1 = Image.open(input_path1+filename)\n",
    "      image2 = Image.open(input_path2+filename)\n",
    "\n",
    "      # extract a,b channels\n",
    "      counter +=1\n",
    "      buffer = img_to_array(image1)\n",
    "      buffer_lab1 = rgb2lab(buffer/255)\n",
    "      buffer_a1 = np.reshape(buffer_lab1[:,:,1], (num_pixels,1))\n",
    "      buffer_b1 = np.reshape(buffer_lab1[:,:,2], (num_pixels,1)) \n",
    "      buffer = img_to_array(image2)\n",
    "      buffer_lab2 = rgb2lab(buffer/255)\n",
    "      buffer_a2 = np.reshape(buffer_lab2[:,:,1], (num_pixels,1))\n",
    "      buffer_b2 = np.reshape(buffer_lab2[:,:,2], (num_pixels,1))    \n",
    "        \n",
    "      # compute histogram \n",
    "      for i in range(num_pixels):\n",
    "        L2_loss += ((buffer_a1[i] - buffer_a2[i])**2 + (buffer_b1[i] - buffer_b2[i])**2) / 2\n",
    "                    \n",
    "        id_x1 = int(32 * (buffer_a1[i] + 128) / 256 + 0.5)\n",
    "        id_y1 = int(32 * (buffer_b1[i] + 128) / 256 + 0.5)\n",
    "\n",
    "        id_x2 = int(32 * (buffer_a2[i] + 128) / 256 + 0.5)\n",
    "        id_y2 = int(32 * (buffer_b2[i] + 128) / 256 + 0.5)\n",
    "        \n",
    "        if(id_x1 == id_x2 and id_y1 == id_y2):\n",
    "           counter_correct_class += 1 \n",
    "        if(id_x1 != 16 and id_y1 != 16):\n",
    "            counter_wo_white += 1\n",
    "            if(np.abs(id_x1 - id_x2)<=1 and np.abs(id_y1 - id_y2)<=1):\n",
    "               counter_wo_white_correct_1 += 1 \n",
    "            if(np.abs(id_x1 - id_x2)<=2 and np.abs(id_y1 - id_y2)<=2):\n",
    "               counter_wo_white_correct_2 += 1 \n",
    "        \n",
    "        histogram1[id_x1, id_y1] += 1\n",
    "        histogram2[id_x2, id_y2] += 1\n",
    "          \n",
    "      if(counter % 100 == 0):\n",
    "        print('number of imported and analyzed images: ', counter)\n"
   ]
  },
  {
   "cell_type": "code",
   "execution_count": 4,
   "metadata": {
    "scrolled": true
   },
   "outputs": [
    {
     "name": "stdout",
     "output_type": "stream",
     "text": [
      "58 101\n",
      "0.415740966796875\n",
      "0.24135480814779725\n",
      "0.48570977419864203\n",
      "[212.31875528]\n",
      "probability check:  1.0 1.0 0.0 0.65960693359375\n"
     ]
    },
    {
     "name": "stderr",
     "output_type": "stream",
     "text": [
      "<ipython-input-4-1fd12a1d968a>:28: RuntimeWarning: divide by zero encountered in log\n",
      "  plt.imshow(np.log(prob_diff_abs), cmap='viridis', extent = [0 , 30, 30, 0], origin='upper')  #interpolation='nearest'\n"
     ]
    },
    {
     "data": {
      "image/png": "[encoded data removed]",
      "text/plain": [
       "<Figure size 432x288 with 2 Axes>"
      ]
     },
     "metadata": {
      "needs_background": "light"
     },
     "output_type": "display_data"
    },
    {
     "data": {
      "image/png": "[encoded data removed]",
      "text/plain": [
       "<Figure size 432x288 with 2 Axes>"
      ]
     },
     "metadata": {
      "needs_background": "light"
     },
     "output_type": "display_data"
    }
   ],
   "source": [
    "# count color classes\n",
    "counter_orig_class = 0\n",
    "counter_pred_class = 0\n",
    "for i in range(32):\n",
    "    for j in range(32):\n",
    "        if(histogram1[i,j]>0):\n",
    "            counter_orig_class+=1\n",
    "        if(histogram2[i,j]>0):\n",
    "            counter_pred_class+=1\n",
    "print(counter_orig_class, counter_pred_class)\n",
    "print(counter_correct_class/(counter * num_pixels))\n",
    "print(counter_wo_white_correct_1/counter_wo_white)\n",
    "print(counter_wo_white_correct_2/counter_wo_white)\n",
    "# averaged L2-loss\n",
    "L2_loss /= (counter*num_pixels)\n",
    "print(L2_loss)\n",
    "prob_ab1 = histogram1 / (counter * num_pixels)\n",
    "prob_ab2 = histogram2 / (counter * num_pixels)\n",
    "prob_diff = prob_ab1 - prob_ab2\n",
    "prob_diff_abs = np.abs(prob_ab1 - prob_ab2)\n",
    "print('probability check: ', np.sum(prob_ab1), np.sum(prob_ab2), np.sum(prob_diff), np.sum(prob_diff_abs))\n",
    "list_ab = []\n",
    "for i in range(32):\n",
    "    for j in range(32):\n",
    "        if(prob_diff[i,j] > 0.0):\n",
    "            list_ab.append((i/32 * 256 - 128,j/32 * 256 - 128, prob_diff[i,j], prob_diff_abs[i,j]))       \n",
    "\n",
    "plt.imshow(np.log(prob_diff_abs), cmap='viridis', extent = [0 , 30, 30, 0], origin='upper')  #interpolation='nearest'\n",
    "plt.xlabel('b')\n",
    "plt.ylabel('a')\n",
    "plt.title('log(|P_orig.(a,b)-P_pred.(a,b)|)')\n",
    "plt.colorbar()\n",
    "plt.grid(linestyle='--')\n",
    "#plt.imsave(fname=output_path_prob, arr=np.log(prob_ab), cmap='viridis', origin='upper', format='png')\n",
    "plt.show()\n",
    "\n",
    "plt.imshow(prob_diff, cmap='viridis', extent = [0 , 30, 30, 0], origin='upper')  #interpolation='nearest'\n",
    "plt.xlabel('b')\n",
    "plt.ylabel('a')\n",
    "plt.title('P_orig.(a,b)-P_pred.(a,b)')\n",
    "plt.colorbar()\n",
    "plt.grid(linestyle='--')\n",
    "#plt.imsave(fname=output_path_prob, arr=np.log(prob_ab), cmap='viridis', origin='upper', format='png')\n",
    "plt.show()"
   ]
  },
  {
   "cell_type": "code",
   "execution_count": null,
   "metadata": {},
   "outputs": [],
   "source": []
  }
 ],
 "metadata": {
  "colab": {
   "authorship_tag": "ABX9TyMsmRqh0issFBA5A420Vyll",
   "collapsed_sections": [],
   "machine_shape": "hm",
   "name": "imageResizePadding.ipynb",
   "provenance": []
  },
  "kernelspec": {
   "display_name": "Python 3",
   "language": "python",
   "name": "python3"
  },
  "language_info": {
   "codemirror_mode": {
    "name": "ipython",
    "version": 3
   },
   "file_extension": ".py",
   "mimetype": "text/x-python",
   "name": "python",
   "nbconvert_exporter": "python",
   "pygments_lexer": "ipython3",
   "version": "3.8.3"
  }
 },
 "nbformat": 4,
 "nbformat_minor": 1
}
