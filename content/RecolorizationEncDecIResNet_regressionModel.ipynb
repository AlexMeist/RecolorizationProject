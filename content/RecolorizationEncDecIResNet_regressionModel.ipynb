{
 "cells": [
  {
   "cell_type": "code",
   "execution_count": 1,
   "metadata": {
    "colab": {
     "base_uri": "https://localhost:8080/"
    },
    "executionInfo": {
     "elapsed": 27384,
     "status": "ok",
     "timestamp": 1604867914231,
     "user": {
      "displayName": "A. Irgendwie",
      "photoUrl": "",
      "userId": "06901651170485627471"
     },
     "user_tz": -60
    },
    "id": "IZ5E4mhEIW6E",
    "outputId": "66619ceb-3782-4d35-bda7-ca31d219a828"
   },
   "outputs": [
    {
     "data": {
      "text/plain": [
       "\"from google.colab import drive\\ndrive.mount('/content/drive/')\\n\\nsave_path = '/content/drive/My Drive/RecolorizationEncDecIResNet/output/\""
      ]
     },
     "execution_count": 1,
     "metadata": {},
     "output_type": "execute_result"
    }
   ],
   "source": [
    "##############################################################\n",
    "# use google drive, only for Colab\n",
    "##############################################################\n",
    "'''from google.colab import drive\n",
    "drive.mount('/content/drive/')\n",
    "\n",
    "save_path = '/content/drive/My Drive/RecolorizationEncDecIResNet/output/'''"
   ]
  },
  {
   "cell_type": "code",
   "execution_count": 2,
   "metadata": {
    "colab": {
     "base_uri": "https://localhost:8080/"
    },
    "executionInfo": {
     "elapsed": 184490,
     "status": "ok",
     "timestamp": 1604868102871,
     "user": {
      "displayName": "A. Irgendwie",
      "photoUrl": "",
      "userId": "06901651170485627471"
     },
     "user_tz": -60
    },
    "id": "i5e5dpwi6Ztw",
    "outputId": "11fee8af-00d3-4e5a-fb4e-f67e7716781f"
   },
   "outputs": [
    {
     "data": {
      "text/plain": [
       "'!cp /content/drive/My\\\\ Drive/RecolorizationEncDecIResNet.zip /content/\\n!unzip RecolorizationEncDecIResNet.zip -d ./'"
      ]
     },
     "execution_count": 2,
     "metadata": {},
     "output_type": "execute_result"
    }
   ],
   "source": [
    "# copy code from google drive and unzip\n",
    "'''!cp /content/drive/My\\ Drive/RecolorizationEncDecIResNet.zip /content/\n",
    "!unzip RecolorizationEncDecIResNet.zip -d ./'''"
   ]
  },
  {
   "cell_type": "code",
   "execution_count": 3,
   "metadata": {
    "executionInfo": {
     "elapsed": 2989,
     "status": "ok",
     "timestamp": 1604868523553,
     "user": {
      "displayName": "A. Irgendwie",
      "photoUrl": "",
      "userId": "06901651170485627471"
     },
     "user_tz": -60
    },
    "id": "oprM4HcJlbDD"
   },
   "outputs": [],
   "source": [
    "##############################################################\n",
    "# import packages\n",
    "##############################################################\n",
    "import numpy as np\n",
    "import itertools\n",
    "import shutil\n",
    "import random\n",
    "import os\n",
    "import matplotlib.pyplot as plt\n",
    "\n",
    "# tensorflow/keras\n",
    "import tensorflow as tf\n",
    "from tensorflow.keras.callbacks import ModelCheckpoint, TensorBoard, CSVLogger,ReduceLROnPlateau\n",
    "#from tensorflow.keras.models import Sequential\n",
    "#from tensorflow.keras.layers import Activation, Dense, Dropout, Flatten, InputLayer, BatchNormalization\n",
    "#from tensorflow.keras.layers import Conv2D, Conv2DTranspose, MaxPool2D, UpSampling2D\n",
    "#from tensorflow.keras.layers import RepeatVector, Permute, Input, Reshape, concatenate\n",
    "from tensorflow.keras.applications.inception_resnet_v2 import InceptionResNetV2\n",
    "from tensorflow.keras import backend\n",
    "from tensorflow.keras.models import load_model, Model\n",
    "from tensorflow.keras.preprocessing.image import ImageDataGenerator, array_to_img, img_to_array, load_img\n",
    "from tensorflow.keras.optimizers import Adam, RMSprop \n",
    "from tensorflow.keras.metrics import categorical_crossentropy\n",
    "from tensorflow.keras.callbacks import TensorBoard\n",
    "from tensorflow.python.client import device_lib\n",
    "from tensorflow.keras.models import load_model\n",
    "from tensorflow.keras.models import model_from_json\n",
    "from skimage.io import imsave\n",
    "from skimage import img_as_ubyte\n",
    "from skimage.color import rgb2lab, lab2rgb, rgb2gray, gray2rgb\n",
    "from PIL import Image, ImageOps\n"
   ]
  },
  {
   "cell_type": "code",
   "execution_count": 4,
   "metadata": {
    "colab": {
     "base_uri": "https://localhost:8080/"
    },
    "executionInfo": {
     "elapsed": 1343,
     "status": "ok",
     "timestamp": 1604868540550,
     "user": {
      "displayName": "A. Irgendwie",
      "photoUrl": "",
      "userId": "06901651170485627471"
     },
     "user_tz": -60
    },
    "id": "6RjpN4qvmgIV",
    "outputId": "97d8b361-4144-4401-9881-9691f4af6334"
   },
   "outputs": [
    {
     "name": "stdout",
     "output_type": "stream",
     "text": [
      "C:\\Users\\d91482\\Desktop\\code\\finalVersion\\content/RecolorizationEncDecIResNet\n"
     ]
    }
   ],
   "source": [
    "##############################################################\n",
    "# set variables / global parameters\n",
    "##############################################################\n",
    "# number of training/validation/test examples\n",
    "num_train_images = 1 #40000 # 9000\n",
    "num_valid_images = 1 #5148 # 1815\n",
    "num_test_images = 1\n",
    "\n",
    "# learning parameter\n",
    "var_learning_rate = 0.0001\n",
    "var_batch_size = 1\n",
    "var_num_show_image = 1\n",
    "var_epochs=1\n",
    "var_steps_per_epoch=int(num_train_images / var_batch_size * var_num_show_image)\n",
    "var_steps_validation = int(num_valid_images / var_batch_size)\n",
    "var_verbose=1\n",
    "\n",
    "# select data read mode\n",
    "# 0: import/read data to/from array (use for <10GB), 1: import/read data to/from drive (use for >10GB)\n",
    "read_mode = 1\n",
    "\n",
    "# select running mode (train, proceed training or inference)\n",
    "# 0: train model, 1: proceed with training (use saved model), 2: inference on test data (use saved model)\n",
    "run_mode = 0\n",
    "# use only for run_mode = 1 or 2\n",
    "if(run_mode==1 or run_mode==2):\n",
    "  model_to_proceed = 'modelEncDecIResNet001.h5'\n",
    "  var_initial_epoch = 1\n",
    "\n",
    "# select running environment\n",
    "working_path = os.getcwd()\n",
    "working_path+='/RecolorizationEncDecIResNet'\n",
    "print(working_path)\n",
    "\n",
    "# datasets\n",
    "# 0: unsplash photos, 1: movie posters\n",
    "var_data_set = 1\n",
    "if(var_data_set == 0):\n",
    "  train_dataset = 'unsplash/train/'\n",
    "  valid_dataset = 'unsplash/valid/'\n",
    "  test_dataset = 'unsplash/test/'\n",
    "elif(var_data_set == 1):\n",
    "  train_dataset = 'postersLargeClearedResizedPadded/train/'\n",
    "  valid_dataset = 'postersLargeClearedResizedPadded/valid/'\n",
    "  test_dataset = 'postersLargeClearedResizedPadded/test/'\n",
    "elif(var_data_set == 2):\n",
    "  train_dataset = 'postersLargeMixedResizedPadded/train/'\n",
    "  valid_dataset = 'postersLargeMixedResizedPadded/valid/'\n",
    "  test_dataset = 'postersLargeMixedResizedPadded/test/'"
   ]
  },
  {
   "cell_type": "code",
   "execution_count": 5,
   "metadata": {
    "colab": {
     "base_uri": "https://localhost:8080/"
    },
    "executionInfo": {
     "elapsed": 12292,
     "status": "ok",
     "timestamp": 1604868556553,
     "user": {
      "displayName": "A. Irgendwie",
      "photoUrl": "",
      "userId": "06901651170485627471"
     },
     "user_tz": -60
    },
    "id": "RrBQeeeSmpws",
    "outputId": "4c2b499d-2ea9-46d5-c558-973df1d56b3d"
   },
   "outputs": [
    {
     "name": "stdout",
     "output_type": "stream",
     "text": [
      "Avaible GPUs:  0\n"
     ]
    },
    {
     "data": {
      "text/plain": [
       "[name: \"/device:CPU:0\"\n",
       " device_type: \"CPU\"\n",
       " memory_limit: 268435456\n",
       " locality {\n",
       " }\n",
       " incarnation: 6285759322486631837,\n",
       " name: \"/device:XLA_CPU:0\"\n",
       " device_type: \"XLA_CPU\"\n",
       " memory_limit: 17179869184\n",
       " locality {\n",
       " }\n",
       " incarnation: 6995561419278732335\n",
       " physical_device_desc: \"device: XLA_CPU device\",\n",
       " name: \"/device:XLA_GPU:0\"\n",
       " device_type: \"XLA_GPU\"\n",
       " memory_limit: 17179869184\n",
       " locality {\n",
       " }\n",
       " incarnation: 16317065246848437849\n",
       " physical_device_desc: \"device: XLA_GPU device\"]"
      ]
     },
     "execution_count": 5,
     "metadata": {},
     "output_type": "execute_result"
    }
   ],
   "source": [
    "##############################################################\n",
    "# set/test cpu/gpu settings\n",
    "# activate memory growth on gpu\n",
    "##############################################################\n",
    "physical_devices = tf.config.experimental.list_physical_devices('GPU')\n",
    "print('Avaible GPUs: ', len(physical_devices))\n",
    "if(len(physical_devices) > 0):\n",
    "  tf.config.experimental.set_memory_growth(physical_devices[0],True)\n",
    "device_lib.list_local_devices()\n"
   ]
  },
  {
   "cell_type": "code",
   "execution_count": 6,
   "metadata": {
    "executionInfo": {
     "elapsed": 1545,
     "status": "ok",
     "timestamp": 1604868562515,
     "user": {
      "displayName": "A. Irgendwie",
      "photoUrl": "",
      "userId": "06901651170485627471"
     },
     "user_tz": -60
    },
    "id": "pOIZXm72m4q0"
   },
   "outputs": [],
   "source": [
    "##############################################################\n",
    "# change to working directory\n",
    "# prepare paths for train / valid / test images\n",
    "# import utils / custom functions\n",
    "##############################################################\n",
    "if os.getcwd() != working_path:\n",
    "  os.chdir(working_path)\n",
    "current_path = os.getcwd()\n",
    "\n",
    "# set paths to subfolders\n",
    "train_path = current_path + '/input/' + train_dataset\n",
    "valid_path = current_path + '/input/' + valid_dataset\n",
    "test_path = current_path + '/input/' + test_dataset\n",
    "output_path = current_path + '/output/'\n",
    "logs_path = current_path + '/logs/'\n",
    "\n",
    "# import custom utils with auxiliary functions\n",
    "import sys\n",
    "sys.path.append(current_path + '/code/')\n",
    "import utils\n",
    "from utils import plotImages, inception_embedding, batch_generator, evaluate_input, import_images, image_resize_with_padding, metric_psnr\n",
    "import modelEncDecIResNet \n",
    "from modelEncDecIResNet import get_modelEncDecIResNet, LossAndErrorPrintingCallback, CustomTensorBoard"
   ]
  },
  {
   "cell_type": "code",
   "execution_count": 7,
   "metadata": {
    "colab": {
     "base_uri": "https://localhost:8080/",
     "height": 107
    },
    "executionInfo": {
     "elapsed": 1685,
     "status": "ok",
     "timestamp": 1604868568601,
     "user": {
      "displayName": "A. Irgendwie",
      "photoUrl": "",
      "userId": "06901651170485627471"
     },
     "user_tz": -60
    },
    "id": "Dmu9YGJFnqA1",
    "outputId": "622dcdcf-496a-41a5-e288-03d70e770d14"
   },
   "outputs": [
    {
     "data": {
      "image/png": "[encoded data removed]",
      "text/plain": [
       "<Figure size 360x360 with 4 Axes>"
      ]
     },
     "metadata": {
      "needs_background": "light"
     },
     "output_type": "display_data"
    }
   ],
   "source": [
    "##############################################################\n",
    "# import data and plot 10 examples\n",
    "# optional, when reading data from drive\n",
    "##############################################################\n",
    "Xtrain_rgb = []\n",
    "Xvalid_rgb = []\n",
    "Xtest_rgb = []\n",
    "\n",
    "# import data as images or from .npy-files \n",
    "if(read_mode==0):\n",
    "  # import validation data\n",
    "  Xbuffer = import_images(valid_path + 'images/', num_valid_images)\n",
    "  Xvalid_rgb = np.array(Xbuffer[0:num_valid_images], dtype=float) / 255\n",
    "  #Xvalid_rgb = np.load(valid_path + 'validArray.npy')\n",
    "  print('validation data imported')\n",
    "  \n",
    "  # import training data\n",
    "  Xbuffer = import_images(train_path + 'images/', num_train_images)\n",
    "  Xtrain_rgb = np.array(Xbuffer[0:num_train_images], dtype=float) / 255\n",
    "  #Xtrain_rgb = np.load(train_path + 'trainArray.npy')\n",
    "  print('training data imported')\n",
    "\n",
    "  # import test data\n",
    "  Xbuffer = import_images(test_path + 'images/', num_test_images)\n",
    "  Xtest_rgb = np.array(Xbuffer[0:num_test_images], dtype=float) / 255\n",
    "\n",
    "# import data from drive (only for illustration)\n",
    "elif(read_mode==1):\n",
    "  Xbuffer = import_images(valid_path + 'images/', 4)\n",
    "  Xvalid_rgb = np.array(Xbuffer, dtype=float) / 255 \n",
    "  Xbuffer = import_images(train_path + 'images/', 4)\n",
    "  Xtrain_rgb = np.array(Xbuffer, dtype=float) / 255\n",
    "  Xbuffer = import_images(test_path + 'images/', 4)\n",
    "  Xtest_rgb = np.array(Xbuffer, dtype=float) / 255\n",
    "\n",
    "# plot 4 examples\n",
    "plotImages(Xtrain_rgb, 4)\n",
    "#plotImages(Xvalid_rgb, 4)\n",
    "#plotImages(Xtest_rgb, 4)"
   ]
  },
  {
   "cell_type": "code",
   "execution_count": 8,
   "metadata": {
    "executionInfo": {
     "elapsed": 7362,
     "status": "ok",
     "timestamp": 1604868579627,
     "user": {
      "displayName": "A. Irgendwie",
      "photoUrl": "",
      "userId": "06901651170485627471"
     },
     "user_tz": -60
    },
    "id": "9fAMpW2OoBxS"
   },
   "outputs": [],
   "source": [
    "##############################################################\n",
    "# load weights of the external model (InceptionResNetV2)\n",
    "##############################################################\n",
    "modelInceptionResNet = InceptionResNetV2(weights=None, include_top=True)\n",
    "modelInceptionResNet.load_weights(working_path + '/extmodel/' + 'modelInceptionResNet.h5')\n",
    "#modelInceptionResNet.summary()\n",
    "\n",
    "# !!! download pretrained InceptionResNetV2 model:\n",
    "''' load and save InceptionResNet-model (first load)\n",
    "modelInceptionResNet = InceptionResNetV2(weights='imagenet', include_top=True)\n",
    "modelInceptionResNet.summary()\n",
    "save_model = modelInceptionResNet.to_json()\n",
    "with open(working_path + '/extmodel/' + 'modelInceptionResNet.json', \"w\") as json_file:\n",
    "  json_file.write(save_model)\n",
    "modelInceptionResNet.save_weights(working_path + '/extmodel/' + 'modelInceptionResNet.h5')\n",
    "'''\n",
    "\n",
    "# define and compile the full model\n",
    "modelEncDecIResNet = get_modelEncDecIResNet()\n",
    "modelEncDecIResNet.compile(optimizer=Adam(learning_rate=var_learning_rate),loss='mse',metrics=['mean_absolute_error',metric_psnr])\n",
    "#modelEncDecIResNet.summary()"
   ]
  },
  {
   "cell_type": "code",
   "execution_count": 9,
   "metadata": {
    "colab": {
     "base_uri": "https://localhost:8080/"
    },
    "id": "CvistZ9KiCeR",
    "outputId": "61b3c6ff-a737-4c1f-85f5-dd51f59814d9",
    "scrolled": true
   },
   "outputs": [
    {
     "name": "stdout",
     "output_type": "stream",
     "text": [
      "read data from drive\n",
      "Found 1 images belonging to 1 classes.\n",
      "Found 1 images belonging to 1 classes.\n",
      "Found 1 images belonging to 1 classes.\n",
      "start training\n",
      " For training batch 0, loss is 0.0097158.\n",
      "1/1 [==============================] - ETA: 0s - loss: 0.0097 - mean_absolute_error: 0.0672 - metric_psnr: 20.1252 For validation batch 0, loss is 0.0147897.\n",
      "\n",
      "Epoch 00001: saving model to C:\\Users\\d91482\\Desktop\\code\\finalVersion\\content\\RecolorizationEncDecIResNet/output/saved_model\\modelEncDecIResNet001.h5\n",
      "The average loss for epoch 0 is 0.0097158 and mean absolute error is 0.0671765.\n",
      "1/1 [==============================] - 1s 1s/step - loss: 0.0097 - mean_absolute_error: 0.0672 - metric_psnr: 20.1252 - val_loss: 0.0148 - val_mean_absolute_error: 0.1140 - val_metric_psnr: 18.3004 - lr: 1.0000e-04\n",
      "finished\n"
     ]
    }
   ],
   "source": [
    "##############################################################\n",
    "# generate batches and execute training\n",
    "##############################################################\n",
    "\n",
    "#DataGenerator = ImageDataGenerator(shear_range=0.1, zoom_range=0.1, rotation_range=10, horizontal_flip=True)\n",
    "DataGenerator = ImageDataGenerator(rescale=1./255)\n",
    "if(read_mode==0):\n",
    "  print('read data from array')\n",
    "  train_batches = DataGenerator.flow(Xtrain_rgb, batch_size=var_batch_size)\n",
    "  valid_batches = DataGenerator.flow(Xvalid_rgb, batch_size=var_batch_size)\n",
    "  test_batches = DataGenerator.flow(Xtest_rgb, batch_size=var_batch_size, shuffle=False)\n",
    "elif(read_mode==1):\n",
    "  print('read data from drive')\n",
    "  train_batches = DataGenerator.flow_from_directory(directory=train_path, batch_size=var_batch_size)\n",
    "  valid_batches = DataGenerator.flow_from_directory(directory=valid_path, batch_size=var_batch_size)\n",
    "  test_batches = DataGenerator.flow_from_directory(directory=test_path, batch_size=var_batch_size, shuffle=False)\n",
    "\n",
    "\n",
    "# checkpoints: save model weights after each epoch, save logs from tensorboard, save loss and metrics\n",
    "checkpoint = [ModelCheckpoint(output_path + 'saved_model/' + 'modelEncDecIResNet{epoch:03d}.h5', \n",
    "                            monitor='loss', verbose=1, save_best_only=False, mode='auto', save_freq='epoch'),\n",
    "              #TensorBoard(logs_path, update_freq='batch', write_graph=False, write_images=False),\n",
    "              CustomTensorBoard(logs_path, update_freq='batch', write_graph=False, write_images=False),\n",
    "              LossAndErrorPrintingCallback(),\n",
    "              #CSVLogger(output_path + 'log.csv', append = True, separator=';'),\n",
    "              ReduceLROnPlateau(monitor='loss', factor=0.5, verbose=1, patience=10, min_lr=0.000001),\n",
    "              ]\n",
    "\n",
    "# run model for training\n",
    "if run_mode == 0:\n",
    "  print('start training')\n",
    "  history_callback = modelEncDecIResNet.fit(batch_generator(var_batch_size, train_batches, modelInceptionResNet), \n",
    "                         epochs=var_epochs, \n",
    "                         steps_per_epoch=var_steps_per_epoch, \n",
    "                         validation_data = batch_generator(var_batch_size,valid_batches,modelInceptionResNet),\n",
    "                         validation_steps=var_steps_validation, \n",
    "                         verbose=var_verbose,\n",
    "                         callbacks=[checkpoint]\n",
    "                         )\n",
    "# proceed with training\n",
    "elif run_mode == 1:\n",
    "  print('load saved model, proceed with training')\n",
    "  modelEncDecIResNet.load_weights(output_path + 'saved_model/' + model_to_proceed)\n",
    "  history_callback = modelEncDecIResNet.fit(batch_generator(var_batch_size, train_batches, modelInceptionResNet), \n",
    "                         epochs=var_epochs, \n",
    "                         steps_per_epoch=var_steps_per_epoch, \n",
    "                         validation_data = batch_generator(var_batch_size,valid_batches,modelInceptionResNet),\n",
    "                         validation_steps=var_steps_validation, \n",
    "                         verbose=var_verbose, \n",
    "                         callbacks=[checkpoint],\n",
    "                         initial_epoch = var_initial_epoch\n",
    "                         )\n",
    "# model inference\n",
    "else:\n",
    "  print('load saved model, prepaired for inference')\n",
    "  modelEncDecIResNet.load_weights(output_path + 'saved_model/' + model_to_proceed)\n",
    "\n",
    "\n",
    "\n",
    "##############################################################\n",
    "# save model and model weights, manually\n",
    "##############################################################\n",
    "'''\n",
    "if run_mode == 0 or run_mode == 1:\n",
    "  print('save model weigths')\n",
    "  save_model = modelEncDecIResNet.to_json()\n",
    "  with open(output_path + '/saved_model/' + 'modelEncDecIResNet.json', \"w\") as json_file:\n",
    "    json_file.write(save_model)\n",
    "  modelEncDecIResNet.save_weights(output_path + 'saved_model/' + 'modelEncDecIResNet.h5')\n",
    "'''\n",
    "##############################################################\n",
    "# compute loss on the validation set, manually\n",
    "##############################################################\n",
    "'''[Xvalid_lab,embed], Yvalid_lab = evaluate_input(Xvalid_rgb, modelInceptionResNet)\n",
    "print(modelEncDecIResNet.evaluate([Xvalid_lab,embed], Yvalid_lab, batch_size=var_batch_size))\n",
    "'''\n",
    "print('finished')"
   ]
  },
  {
   "cell_type": "code",
   "execution_count": 10,
   "metadata": {
    "id": "c_Nq2fwos0jT"
   },
   "outputs": [
    {
     "name": "stdout",
     "output_type": "stream",
     "text": [
      "test images plotted\n"
     ]
    }
   ],
   "source": [
    "##############################################################\n",
    "# colorize images from test set\n",
    "#############################################################\n",
    "Xtest_rgb = []\n",
    "Xbuffer = import_images(test_path + 'images/', num_test_images)\n",
    "Xtest_rgb = np.array(Xbuffer, dtype=float) / 255\n",
    "\n",
    "[Xtest_lab,embed], Ytest_lab = evaluate_input(Xtest_rgb, modelInceptionResNet)\n",
    "Xpred_lab = modelEncDecIResNet.predict([Xtest_lab, embed])\n",
    "Xpred_lab =  Xpred_lab * 128\n",
    "\n",
    "for i in range(len(Xpred_lab)):\n",
    "    bufferImage = np.zeros((256, 256, 3))\n",
    "    bufferImage[:,:,0] = Xtest_lab[i][:,:,0]\n",
    "    bufferImage[:,:,1:] = Xpred_lab[i]\n",
    "    imsave(output_path+'results/'+str(i)+\".png\", img_as_ubyte(lab2rgb(bufferImage)))\n",
    "\n",
    "print('test images plotted')"
   ]
  },
  {
   "cell_type": "code",
   "execution_count": 11,
   "metadata": {
    "id": "cNSlKgAhuFGX"
   },
   "outputs": [
    {
     "data": {
      "text/plain": [
       "'!tensorboard dev upload --logdir ./logs     --name \"experiment: movie posters\"     --description \"training results \"     --one_shot'"
      ]
     },
     "execution_count": 11,
     "metadata": {},
     "output_type": "execute_result"
    }
   ],
   "source": [
    "##############################################################\n",
    "# initialize tensorboard session\n",
    "##############################################################\n",
    "'''!tensorboard dev upload --logdir ./logs \\\n",
    "    --name \"experiment: movie posters\" \\\n",
    "    --description \"training results \" \\\n",
    "    --one_shot'''"
   ]
  },
  {
   "cell_type": "code",
   "execution_count": 12,
   "metadata": {
    "id": "8KaeyeU7RUBh"
   },
   "outputs": [
    {
     "data": {
      "text/plain": [
       "'!tensorboard dev delete --experiment_id #'"
      ]
     },
     "execution_count": 12,
     "metadata": {},
     "output_type": "execute_result"
    }
   ],
   "source": [
    "# delete tensorboard session\n",
    "'''!tensorboard dev delete --experiment_id #'''"
   ]
  },
  {
   "cell_type": "code",
   "execution_count": 13,
   "metadata": {
    "id": "7JRPTABLv2tH"
   },
   "outputs": [
    {
     "data": {
      "text/plain": [
       "\"!zip -r RecolorizationEncDecIResNetResult.zip '/content/RecolorizationEncDecIResNet/'\\n!cp RecolorizationEncDecIResNetResult.zip /content/drive/My\\\\ Drive/\""
      ]
     },
     "execution_count": 13,
     "metadata": {},
     "output_type": "execute_result"
    }
   ],
   "source": [
    "##############################################################\n",
    "# only for Colab\n",
    "##############################################################\n",
    "'''!zip -r RecolorizationEncDecIResNetResult.zip '/content/RecolorizationEncDecIResNet/'\n",
    "!cp RecolorizationEncDecIResNetResult.zip /content/drive/My\\ Drive/'''"
   ]
  }
 ],
 "metadata": {
  "accelerator": "GPU",
  "colab": {
   "authorship_tag": "ABX9TyO0dFg+/DQ+plGDWPraJMfV",
   "collapsed_sections": [],
   "machine_shape": "hm",
   "mount_file_id": "11S9Hm4amlbhK282TSVx58539OLBcLw6a",
   "name": "RecolorizationEncDecIResNet_VerDrive_Version1.0.ipynb",
   "provenance": []
  },
  "kernelspec": {
   "display_name": "Python 3",
   "language": "python",
   "name": "python3"
  },
  "language_info": {
   "codemirror_mode": {
    "name": "ipython",
    "version": 3
   },
   "file_extension": ".py",
   "mimetype": "text/x-python",
   "name": "python",
   "nbconvert_exporter": "python",
   "pygments_lexer": "ipython3",
   "version": "3.8.3"
  }
 },
 "nbformat": 4,
 "nbformat_minor": 1
}
